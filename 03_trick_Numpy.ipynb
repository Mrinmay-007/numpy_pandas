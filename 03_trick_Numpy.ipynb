{
 "cells": [
  {
   "cell_type": "code",
   "execution_count": 1,
   "metadata": {},
   "outputs": [
    {
     "data": {
      "text/plain": [
       "array([15, 23, 74, 30, 52, 31, 64, 93, 69, 69, 90, 67,  6, 24, 83, 21, 20,\n",
       "       83, 37, 12,  6, 72, 37, 94, 23])"
      ]
     },
     "execution_count": 1,
     "metadata": {},
     "output_type": "execute_result"
    }
   ],
   "source": [
    "# np.sort\n",
    "\n",
    "import numpy as np\n",
    "a = np.random.randint(1,100,25)\n",
    "a"
   ]
  },
  {
   "cell_type": "code",
   "execution_count": 2,
   "metadata": {},
   "outputs": [
    {
     "data": {
      "text/plain": [
       "array([[13,  4, 74, 77],\n",
       "       [50, 66, 61, 32],\n",
       "       [50, 17,  8, 43],\n",
       "       [79, 87, 79, 80],\n",
       "       [ 9,  5, 92, 92],\n",
       "       [21, 33, 74, 68]])"
      ]
     },
     "execution_count": 2,
     "metadata": {},
     "output_type": "execute_result"
    }
   ],
   "source": [
    "b=np.random .randint(1,100,24).reshape(6,4)\n",
    "b"
   ]
  },
  {
   "cell_type": "code",
   "execution_count": 3,
   "metadata": {},
   "outputs": [
    {
     "data": {
      "text/plain": [
       "array([ 6,  6, 12, 15, 20, 21, 23, 23, 24, 30, 31, 37, 37, 52, 64, 67, 69,\n",
       "       69, 72, 74, 83, 83, 90, 93, 94])"
      ]
     },
     "execution_count": 3,
     "metadata": {},
     "output_type": "execute_result"
    }
   ],
   "source": [
    "np.sort(a)"
   ]
  },
  {
   "cell_type": "code",
   "execution_count": 4,
   "metadata": {},
   "outputs": [
    {
     "data": {
      "text/plain": [
       "array([[ 4, 13, 74, 77],\n",
       "       [32, 50, 61, 66],\n",
       "       [ 8, 17, 43, 50],\n",
       "       [79, 79, 80, 87],\n",
       "       [ 5,  9, 92, 92],\n",
       "       [21, 33, 68, 74]])"
      ]
     },
     "execution_count": 4,
     "metadata": {},
     "output_type": "execute_result"
    }
   ],
   "source": [
    "np.sort(b)"
   ]
  },
  {
   "cell_type": "code",
   "execution_count": 5,
   "metadata": {},
   "outputs": [
    {
     "data": {
      "text/plain": [
       "array([[ 9,  4,  8, 32],\n",
       "       [13,  5, 61, 43],\n",
       "       [21, 17, 74, 68],\n",
       "       [50, 33, 74, 77],\n",
       "       [50, 66, 79, 80],\n",
       "       [79, 87, 92, 92]])"
      ]
     },
     "execution_count": 5,
     "metadata": {},
     "output_type": "execute_result"
    }
   ],
   "source": [
    "np.sort(b,axis=0) # 0 for sort column // 1 for sort row"
   ]
  },
  {
   "cell_type": "code",
   "execution_count": 6,
   "metadata": {},
   "outputs": [
    {
     "data": {
      "text/plain": [
       "array([ 15,  23,  74,  30,  52,  31,  64,  93,  69,  69,  90,  67,   6,\n",
       "        24,  83,  21,  20,  83,  37,  12,   6,  72,  37,  94,  23, 200])"
      ]
     },
     "execution_count": 6,
     "metadata": {},
     "output_type": "execute_result"
    }
   ],
   "source": [
    "# np.append\n",
    "\n",
    "np.append(a,200)"
   ]
  },
  {
   "cell_type": "code",
   "execution_count": 7,
   "metadata": {},
   "outputs": [
    {
     "data": {
      "text/plain": [
       "(1, 25)"
      ]
     },
     "execution_count": 7,
     "metadata": {},
     "output_type": "execute_result"
    }
   ],
   "source": [
    "# np.concatenate\n",
    "# np.unique\n",
    "# np.expand_dims\n",
    "a.shape\n",
    "np.expand_dims(a,axis=0).shape"
   ]
  },
  {
   "cell_type": "code",
   "execution_count": 8,
   "metadata": {},
   "outputs": [
    {
     "data": {
      "text/plain": [
       "array([[15],\n",
       "       [23],\n",
       "       [74],\n",
       "       [30],\n",
       "       [52],\n",
       "       [31],\n",
       "       [64],\n",
       "       [93],\n",
       "       [69],\n",
       "       [69],\n",
       "       [90],\n",
       "       [67],\n",
       "       [ 6],\n",
       "       [24],\n",
       "       [83],\n",
       "       [21],\n",
       "       [20],\n",
       "       [83],\n",
       "       [37],\n",
       "       [12],\n",
       "       [ 6],\n",
       "       [72],\n",
       "       [37],\n",
       "       [94],\n",
       "       [23]])"
      ]
     },
     "execution_count": 8,
     "metadata": {},
     "output_type": "execute_result"
    }
   ],
   "source": [
    "np.expand_dims(a,axis=1)"
   ]
  },
  {
   "cell_type": "code",
   "execution_count": 11,
   "metadata": {},
   "outputs": [
    {
     "data": {
      "text/plain": [
       "array([15, 23,  0, 30,  0, 31,  0,  0,  0,  0,  0,  0,  6, 24,  0, 21, 20,\n",
       "        0, 37, 12,  6,  0, 37,  0, 23])"
      ]
     },
     "execution_count": 11,
     "metadata": {},
     "output_type": "execute_result"
    }
   ],
   "source": [
    "# np.where\n",
    "# np.where(a>50,true,false)\n",
    "np.where(a>50,0,a)\n"
   ]
  },
  {
   "cell_type": "code",
   "execution_count": 13,
   "metadata": {},
   "outputs": [
    {
     "data": {
      "text/plain": [
       "array([15, 23, 74, 30, 52, 31, 64, 93, 69, 69, 90, 67,  6, 24, 83, 21, 20,\n",
       "       83, 37, 12,  6, 72, 37, 94, 23])"
      ]
     },
     "execution_count": 13,
     "metadata": {},
     "output_type": "execute_result"
    }
   ],
   "source": [
    "a\n",
    "# np.argmax"
   ]
  },
  {
   "cell_type": "code",
   "execution_count": 14,
   "metadata": {},
   "outputs": [
    {
     "data": {
      "text/plain": [
       "23"
      ]
     },
     "execution_count": 14,
     "metadata": {},
     "output_type": "execute_result"
    }
   ],
   "source": [
    "np.argmax(a)"
   ]
  },
  {
   "cell_type": "code",
   "execution_count": 15,
   "metadata": {},
   "outputs": [
    {
     "data": {
      "text/plain": [
       "12"
      ]
     },
     "execution_count": 15,
     "metadata": {},
     "output_type": "execute_result"
    }
   ],
   "source": [
    "np.argmin(a)"
   ]
  },
  {
   "cell_type": "code",
   "execution_count": 18,
   "metadata": {},
   "outputs": [
    {
     "name": "stdout",
     "output_type": "stream",
     "text": [
      "[15 23 74 30 52 31 64 93 69 69 90 67  6 24 83 21 20 83 37 12  6 72 37 94\n",
      " 23]\n"
     ]
    },
    {
     "data": {
      "text/plain": [
       "array([  15,   38,  112,  142,  194,  225,  289,  382,  451,  520,  610,\n",
       "        677,  683,  707,  790,  811,  831,  914,  951,  963,  969, 1041,\n",
       "       1078, 1172, 1195])"
      ]
     },
     "execution_count": 18,
     "metadata": {},
     "output_type": "execute_result"
    }
   ],
   "source": [
    "#np.cumsum\n",
    "print(a)\n",
    "np.cumsum(a)"
   ]
  },
  {
   "cell_type": "code",
   "execution_count": 19,
   "metadata": {},
   "outputs": [
    {
     "data": {
      "text/plain": [
       "array([         15,         345,       25530,      765900,    39826800,\n",
       "        1234630800,  1706959872,  -166521856,  1394893824,  1758393344,\n",
       "        -658388992, -1162389504,  1615597568,   119635968,  1339850752,\n",
       "       -1927905280,    96600064,  -572129280,   306053120,  -622329856,\n",
       "         560988160,  1736441856,  -176160768,   620756992,  1392508928])"
      ]
     },
     "execution_count": 19,
     "metadata": {},
     "output_type": "execute_result"
    }
   ],
   "source": [
    "#np.cumprod\n",
    "np.cumprod(a)"
   ]
  },
  {
   "cell_type": "code",
   "execution_count": 23,
   "metadata": {},
   "outputs": [
    {
     "name": "stdout",
     "output_type": "stream",
     "text": [
      "[15 23 74 30 52 31 64 93 69 69 90 67  6 24 83 21 20 83 37 12  6 72 37 94\n",
      " 23]\n",
      "94.0\n",
      "37.0\n",
      "6.0\n"
     ]
    }
   ],
   "source": [
    "# np.percentile\n",
    "print(a)\n",
    "print(np.percentile(a,100))\n",
    "print(np.percentile(a,50))\n",
    "print(np.percentile(a,0))\n"
   ]
  },
  {
   "cell_type": "code",
   "execution_count": 27,
   "metadata": {},
   "outputs": [
    {
     "name": "stdout",
     "output_type": "stream",
     "text": [
      "[15 23 74 30 52 31 64 93 69 69 90 67  6 24 83 21 20 83 37 12  6 72 37 94\n",
      " 23]\n",
      "(array([2, 2, 5, 4, 0, 1, 4, 2, 2, 3], dtype=int64), array([  0,  10,  20,  30,  40,  50,  60,  70,  80,  90, 100]))\n"
     ]
    }
   ],
   "source": [
    "# np.histogram\n",
    "print(a)\n",
    "print(np.histogram(a,bins=[0,10,20,30,40,50,60,70,80,90,100]))"
   ]
  },
  {
   "cell_type": "code",
   "execution_count": 28,
   "metadata": {},
   "outputs": [],
   "source": [
    "# np.corrcoef       //corelation coefficient"
   ]
  },
  {
   "cell_type": "code",
   "execution_count": 29,
   "metadata": {},
   "outputs": [
    {
     "data": {
      "text/plain": [
       "array([False, False, False, False, False, False, False, False, False,\n",
       "       False, False, False,  True,  True, False, False, False, False,\n",
       "       False, False,  True, False, False, False, False])"
      ]
     },
     "execution_count": 29,
     "metadata": {},
     "output_type": "execute_result"
    }
   ],
   "source": [
    "# np.isin\n",
    "item=[5,6,32,24]\n",
    "np.isin(a,item)"
   ]
  },
  {
   "cell_type": "code",
   "execution_count": 30,
   "metadata": {},
   "outputs": [
    {
     "data": {
      "text/plain": [
       "array([23, 94, 37, 72,  6, 12, 37, 83, 20, 21, 83, 24,  6, 67, 90, 69, 69,\n",
       "       93, 64, 31, 52, 30, 74, 23, 15])"
      ]
     },
     "execution_count": 30,
     "metadata": {},
     "output_type": "execute_result"
    }
   ],
   "source": [
    "# np.flip\n",
    "np.flip(a)"
   ]
  },
  {
   "cell_type": "code",
   "execution_count": 31,
   "metadata": {},
   "outputs": [
    {
     "data": {
      "text/plain": [
       "array([[68, 74, 33, 21],\n",
       "       [92, 92,  5,  9],\n",
       "       [80, 79, 87, 79],\n",
       "       [43,  8, 17, 50],\n",
       "       [32, 61, 66, 50],\n",
       "       [77, 74,  4, 13]])"
      ]
     },
     "execution_count": 31,
     "metadata": {},
     "output_type": "execute_result"
    }
   ],
   "source": [
    "np.flip (b)"
   ]
  },
  {
   "cell_type": "code",
   "execution_count": 32,
   "metadata": {},
   "outputs": [
    {
     "data": {
      "text/plain": [
       "array([100, 200,  74,  30,  52,  31,  64,  93,  69,  69,  90,  67,   6,\n",
       "        24,  83,  21,  20,  83,  37,  12,   6,  72,  37,  94,  23])"
      ]
     },
     "execution_count": 32,
     "metadata": {},
     "output_type": "execute_result"
    }
   ],
   "source": [
    "# np.put\n",
    "np.put(a,[0,1],[100,200])\n",
    "a"
   ]
  },
  {
   "cell_type": "code",
   "execution_count": 33,
   "metadata": {},
   "outputs": [
    {
     "data": {
      "text/plain": [
       "array([74, 30, 52, 31, 64, 93, 69, 69, 90, 67,  6, 24, 83, 21, 20, 83, 37,\n",
       "       12,  6, 72, 37, 94, 23])"
      ]
     },
     "execution_count": 33,
     "metadata": {},
     "output_type": "execute_result"
    }
   ],
   "source": [
    "# np.delete\n",
    "np.delete(a,[0,1])"
   ]
  },
  {
   "cell_type": "code",
   "execution_count": 34,
   "metadata": {},
   "outputs": [],
   "source": [
    "# np.union1d\n",
    "# np.intersect1d\n",
    "# np.setdiff1d\n",
    "# np.setxor1d\n",
    "# np.in1d"
   ]
  },
  {
   "cell_type": "code",
   "execution_count": 38,
   "metadata": {},
   "outputs": [
    {
     "name": "stdout",
     "output_type": "stream",
     "text": [
      "[100 200  74  30  52  31  64  93  69  69  90  67   6  24  83  21  20  83\n",
      "  37  12   6  72  37  94  23]\n"
     ]
    },
    {
     "data": {
      "text/plain": [
       "array([75, 75, 74, 30, 52, 31, 64, 75, 69, 69, 75, 67, 25, 25, 75, 25, 25,\n",
       "       75, 37, 25, 25, 72, 37, 75, 25])"
      ]
     },
     "execution_count": 38,
     "metadata": {},
     "output_type": "execute_result"
    }
   ],
   "source": [
    "#np.clip\n",
    "print(a)\n",
    "np.clip(a,a_min=25,a_max=75)"
   ]
  },
  {
   "cell_type": "code",
   "execution_count": 36,
   "metadata": {},
   "outputs": [],
   "source": [
    "# np.swapaxes\n",
    "# np.uniform\n",
    "# np.count_nonzero\n",
    "# np.count_nonzero\n",
    "# np.title\n",
    "# np.repeat\n",
    "# np.altclose \n",
    "# np.equals"
   ]
  },
  {
   "cell_type": "code",
   "execution_count": null,
   "metadata": {},
   "outputs": [],
   "source": []
  }
 ],
 "metadata": {
  "kernelspec": {
   "display_name": "Python 3",
   "language": "python",
   "name": "python3"
  },
  "language_info": {
   "codemirror_mode": {
    "name": "ipython",
    "version": 3
   },
   "file_extension": ".py",
   "mimetype": "text/x-python",
   "name": "python",
   "nbconvert_exporter": "python",
   "pygments_lexer": "ipython3",
   "version": "3.11.4"
  }
 },
 "nbformat": 4,
 "nbformat_minor": 2
}
